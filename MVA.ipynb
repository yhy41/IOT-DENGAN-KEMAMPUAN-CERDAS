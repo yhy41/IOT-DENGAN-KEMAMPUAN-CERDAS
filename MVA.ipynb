{
  "nbformat": 4,
  "nbformat_minor": 0,
  "metadata": {
    "colab": {
      "name": "MVA.ipynb",
      "provenance": [],
      "collapsed_sections": []
    },
    "kernelspec": {
      "display_name": "Python 3",
      "name": "python3"
    }
  },
  "cells": [
    {
      "cell_type": "markdown",
      "metadata": {
        "id": "rta7tdp1bjs6"
      },
      "source": [
        "**Import Library**"
      ]
    },
    {
      "cell_type": "code",
      "metadata": {
        "id": "3cAYSOqfj29n"
      },
      "source": [
        "import numpy as np #digunakan untuk oprasi matematika\r\n",
        "from scipy.signal import butter, lfilter, freqz\r\n",
        "from matplotlib import pyplot as py\r\n",
        "import math\r\n",
        "#digunakan untuk oprasi oprasi sincostang\r\n",
        "from pandas import read_csv\r\n",
        "#digunakan untuk membaca dataset dengan format csv"
      ],
      "execution_count": 235,
      "outputs": []
    },
    {
      "cell_type": "markdown",
      "metadata": {
        "id": "3UOP5-y9e5hz"
      },
      "source": [
        "**IMport Data Set**"
      ]
    },
    {
      "cell_type": "code",
      "metadata": {
        "id": "QmrFLpPDx4h-"
      },
      "source": [
        "dataset = read_csv('5.csv', header=0, index_col=0)"
      ],
      "execution_count": 236,
      "outputs": []
    },
    {
      "cell_type": "markdown",
      "metadata": {
        "id": "wnojihAEjWHP"
      },
      "source": [
        "**Data prepare situation**"
      ]
    },
    {
      "cell_type": "code",
      "metadata": {
        "id": "DvEj_5n7m0cp"
      },
      "source": [
        "#memasukan nilai dataset \r\n",
        "A = dataset.iloc[:, 0] #data set \r\n",
        "dataC = dataset.iloc[:, 2] #data yabng akan di filter nantinya.\r\n",
        "\r\n",
        "#saya menggunakan data 1000 dari 0 untuk memperingan algotitma \r\n",
        "data = A[1 : 1000]\r\n",
        "x = dataC[1 : 1000]\r\n",
        "\r\n",
        "fil=np.array(dataC) #memasukan data C kedalam data list fil"
      ],
      "execution_count": 237,
      "outputs": []
    },
    {
      "cell_type": "markdown",
      "metadata": {
        "id": "eoMzjh9ba9Lq"
      },
      "source": [
        "**Fungsi Untuk Rumus MVA** "
      ]
    },
    {
      "cell_type": "code",
      "metadata": {
        "id": "smMvui3a39n3"
      },
      "source": [
        "def mva(data,window):\r\n",
        "  setmva = []\r\n",
        "  for i in range(len(data)):\r\n",
        "    sumdata = data[i]\r\n",
        "    for j in range(window):\r\n",
        "      sumdata +=data[i-j]\r\n",
        "    avg=sumdata/(window+1)\r\n",
        "    setmva.append(avg)\r\n",
        "\r\n",
        "  return setmva"
      ],
      "execution_count": 238,
      "outputs": []
    },
    {
      "cell_type": "markdown",
      "metadata": {
        "id": "jgukuRJQ-6pd"
      },
      "source": [
        "**Plot sinyal asli dan terfilter**"
      ]
    },
    {
      "cell_type": "code",
      "metadata": {
        "colab": {
          "base_uri": "https://localhost:8080/",
          "height": 284
        },
        "id": "mlPEM4q54FnE",
        "outputId": "955424a4-54c0-4103-a02d-1d390f37c8e0"
      },
      "source": [
        "hasil=mva(fil,16) #dimana fil dan window size yang saya gunakan \r\n",
        "py.plot(fil, 'b-', label='data')\r\n",
        "py.plot(hasil, 'r-', linewidth=1, label='filtered data MVA')\r\n",
        "py.grid()\r\n",
        "py.legend()"
      ],
      "execution_count": 239,
      "outputs": [
        {
          "output_type": "execute_result",
          "data": {
            "text/plain": [
              "<matplotlib.legend.Legend at 0x7f60606b0050>"
            ]
          },
          "metadata": {
            "tags": []
          },
          "execution_count": 239
        },
        {
          "output_type": "display_data",
          "data": {
            "image/png": "[encoded data removed]",
            "text/plain": [
              "<Figure size 432x288 with 1 Axes>"
            ]
          },
          "metadata": {
            "tags": [],
            "needs_background": "light"
          }
        }
      ]
    }
  ]
}